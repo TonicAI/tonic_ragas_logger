{
 "cells": [
  {
   "cell_type": "code",
   "execution_count": 1,
   "metadata": {},
   "outputs": [
    {
     "name": "stderr",
     "output_type": "stream",
     "text": [
      "c:\\Users\\EthanPhilpott\\tonic_ragas_logger\\.venv\\Lib\\site-packages\\tqdm\\auto.py:21: TqdmWarning: IProgress not found. Please update jupyter and ipywidgets. See https://ipywidgets.readthedocs.io/en/stable/user_install.html\n",
      "  from .autonotebook import tqdm as notebook_tqdm\n",
      "Evaluating: 100%|██████████| 8/8 [00:02<00:00,  3.12it/s]\n"
     ]
    }
   ],
   "source": [
    "from ragas import evaluate\n",
    "from datasets import Dataset\n",
    "\n",
    "dataset = Dataset.from_dict({\n",
    "    'question': [\n",
    "        'Who is the president of the United States?',\n",
    "        'Who is the prime minister of the United Kingdom?'\n",
    "    ],\n",
    "    'contexts': [\n",
    "        ['The president of the United States is Joe Biden.', 'The president of the United States is Joe Biden.'],\n",
    "        ['The prime minister of the United Kingdom is Boris Johnson.']\n",
    "    ],\n",
    "    'answer': ['Joe Biden', 'Queen Elizabeth II'],\n",
    "    'ground_truth': ['Joe Biden', 'Boris Johnson']\n",
    "})\n",
    "\n",
    "results = evaluate(dataset)"
   ]
  },
  {
   "cell_type": "code",
   "execution_count": 2,
   "metadata": {},
   "outputs": [
    {
     "data": {
      "text/plain": [
       "'4275188d-bdc7-4ff2-99e5-0e79d959198c'"
      ]
     },
     "execution_count": 2,
     "metadata": {},
     "output_type": "execute_result"
    }
   ],
   "source": [
    "from tonic_ragas_logger import RagasValidateApi\n",
    "\n",
    "api = RagasValidateApi()\n",
    "api.upload_results(\"project-id\", results)"
   ]
  }
 ],
 "metadata": {
  "kernelspec": {
   "display_name": "Python 3",
   "language": "python",
   "name": "python3"
  },
  "language_info": {
   "codemirror_mode": {
    "name": "ipython",
    "version": 3
   },
   "file_extension": ".py",
   "mimetype": "text/x-python",
   "name": "python",
   "nbconvert_exporter": "python",
   "pygments_lexer": "ipython3",
   "version": "3.11.7"
  }
 },
 "nbformat": 4,
 "nbformat_minor": 2
}
